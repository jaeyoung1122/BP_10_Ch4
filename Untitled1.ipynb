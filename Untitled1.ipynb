{
  "nbformat": 4,
  "nbformat_minor": 0,
  "metadata": {
    "colab": {
      "provenance": [],
      "authorship_tag": "ABX9TyNlBMvbNw45TDdLrjN0NlkZ",
      "include_colab_link": true
    },
    "kernelspec": {
      "name": "python3",
      "display_name": "Python 3"
    },
    "language_info": {
      "name": "python"
    }
  },
  "cells": [
    {
      "cell_type": "markdown",
      "metadata": {
        "id": "view-in-github",
        "colab_type": "text"
      },
      "source": [
        "<a href=\"https://colab.research.google.com/github/jaeyoung1122/BP_10_Ch4/blob/main/Untitled1.ipynb\" target=\"_parent\"><img src=\"https://colab.research.google.com/assets/colab-badge.svg\" alt=\"Open In Colab\"/></a>"
      ]
    },
    {
      "cell_type": "code",
      "execution_count": 8,
      "metadata": {
        "colab": {
          "base_uri": "https://localhost:8080/"
        },
        "id": "FHKudbUlMIhf",
        "outputId": "df41b072-9363-4235-b093-0e5cf08053ea"
      },
      "outputs": [
        {
          "output_type": "stream",
          "name": "stdout",
          "text": [
            "나는12개의 사과를 먹었다.\n"
          ]
        }
      ],
      "source": [
        "print('나는' + str(12) +'개의 사과를 먹었다.')"
      ]
    },
    {
      "cell_type": "code",
      "source": [
        "print('apple' + 'grape')\n",
        "print('apple' * 3)"
      ],
      "metadata": {
        "colab": {
          "base_uri": "https://localhost:8080/"
        },
        "id": "4XJeM4OXMgLU",
        "outputId": "4ecdb239-0dbc-4357-b5e2-ee90808a14b7"
      },
      "execution_count": 6,
      "outputs": [
        {
          "output_type": "stream",
          "name": "stdout",
          "text": [
            "applegrape\n",
            "appleappleapple\n"
          ]
        }
      ]
    },
    {
      "cell_type": "code",
      "source": [
        "_str = input(\"문자열을 입력하시오: \")\n",
        "s = _str[0:2] + _str[-2:]\n",
        "print(s)"
      ],
      "metadata": {
        "colab": {
          "base_uri": "https://localhost:8080/"
        },
        "id": "8LrxpkuDNQVP",
        "outputId": "f6873c0f-387d-4e44-a354-9ac01f2372cf"
      },
      "execution_count": 9,
      "outputs": [
        {
          "output_type": "stream",
          "name": "stdout",
          "text": [
            "문자열을 입력하시오: phthon\n",
            "phon\n"
          ]
        }
      ]
    },
    {
      "cell_type": "code",
      "source": [
        "str = input(\"문자열을 입력하시오: \")\n",
        "print(str + \"하는 중\")"
      ],
      "metadata": {
        "colab": {
          "base_uri": "https://localhost:8080/"
        },
        "id": "oogSkUQLOU--",
        "outputId": "a7addf19-9b08-489b-c164-29cab3a060ba"
      },
      "execution_count": 11,
      "outputs": [
        {
          "output_type": "stream",
          "name": "stdout",
          "text": [
            "문자열을 입력하시오: 청소\n",
            "청소하는 중\n"
          ]
        }
      ]
    },
    {
      "cell_type": "code",
      "source": [
        "_str_=input(\"기호를 입력하시오: \")\n",
        "word=input(\"중간에 삽입할 문자열을 입력하시오: \")\n",
        "s=_str_[:1] + word + _str_[1:]\n",
        "print(s)"
      ],
      "metadata": {
        "colab": {
          "base_uri": "https://localhost:8080/"
        },
        "id": "wvTzWynEO_b9",
        "outputId": "7190de6d-696d-4508-93b1-81fdb246b105"
      },
      "execution_count": 14,
      "outputs": [
        {
          "output_type": "stream",
          "name": "stdout",
          "text": [
            "기호를 입력하시오: []\n",
            "중간에 삽입할 문자열을 입력하시오: python\n",
            "[python]\n"
          ]
        }
      ]
    },
    {
      "cell_type": "code",
      "source": [
        "list = ['1', '2', '3', '4']\n",
        "\n",
        "sum = int(list[0]) + int(list[1]) + int(list[2]) + int(list[3])\n",
        "\n",
        "print(\"리스트 =\", list)\n",
        "print(\"리스트 숫자들의 합 : \",  sum)"
      ],
      "metadata": {
        "colab": {
          "base_uri": "https://localhost:8080/"
        },
        "id": "AyBWH9O9R9V4",
        "outputId": "6a6b0378-61d2-4be2-97c9-d59107472259"
      },
      "execution_count": 15,
      "outputs": [
        {
          "output_type": "stream",
          "name": "stdout",
          "text": [
            "리스트 = ['1', '2', '3', '4']\n",
            "리스트 숫자들의 합 :  10\n"
          ]
        }
      ]
    }
  ]
}